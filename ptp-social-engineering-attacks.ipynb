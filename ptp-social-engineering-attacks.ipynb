{
 "cells": [
  {
   "cell_type": "markdown",
   "id": "d4ee9e4b",
   "metadata": {},
   "source": [
    "***\n",
    "< [Home](https://github.com/SeanOhAileasa) | [README](https://github.com/SeanOhAileasa/ptp-social-engineering-attacks/blob/main/README.md) >\n",
    "\n",
    "## CompTIA PenTest+ - Course Material 2022\n",
    "###### Topic: ``Social Engineering Attacks``\n",
    "***"
   ]
  },
  {
   "cell_type": "markdown",
   "id": "b82b07fb",
   "metadata": {},
   "source": [
    "Course material for the ``CompTIA PenTest+`` module of the ``ICT Associate Apprenticeship (Cybersecurity)`` programme."
   ]
  },
  {
   "cell_type": "markdown",
   "id": "e7228f57",
   "metadata": {},
   "source": [
    "<a id=\"top\"></a>\n",
    "***\n",
    "## Table of Contents\n",
    "***"
   ]
  },
  {
   "cell_type": "markdown",
   "id": "c2bb5e7b",
   "metadata": {},
   "source": [
    "### [Social Engineering Attacks](#aa) <br/><br/>\n",
    "<hr width=50%;>"
   ]
  },
  {
   "cell_type": "markdown",
   "id": "6915d505",
   "metadata": {},
   "source": [
    "### [The Pretexting Phase of Social Engineering](#A) <br/><br/>\n",
    "<hr width=50%;>"
   ]
  },
  {
   "cell_type": "markdown",
   "id": "dd9458df",
   "metadata": {},
   "source": [
    "### [E-mail Phishing Attacks](#B) <br/><br/>\n",
    "<hr width=50%;>"
   ]
  },
  {
   "cell_type": "markdown",
   "id": "6c51a79a",
   "metadata": {},
   "source": [
    "### [Short Message Service Phishing](#C) <br/><br/>\n",
    "<hr width=50%;>"
   ]
  },
  {
   "cell_type": "markdown",
   "id": "5c870a72",
   "metadata": {},
   "source": [
    "### [USB Drop Attacks](#D) <br/><br/>\n",
    "<hr width=50%;>"
   ]
  },
  {
   "cell_type": "markdown",
   "id": "6b489e9a",
   "metadata": {},
   "source": [
    "### [Vishing Attack Methods](#E) <br/><br/>\n",
    "<hr width=50%;>"
   ]
  },
  {
   "cell_type": "markdown",
   "id": "747a8354",
   "metadata": {},
   "source": [
    "### [Watering Hole Attacks](#F) <br/><br/>\n",
    "<hr width=50%;>"
   ]
  },
  {
   "cell_type": "markdown",
   "id": "5cd0032b",
   "metadata": {},
   "source": [
    "### [Tailgating Attacks](#G) <br/><br/>\n",
    "<hr width=50%;>"
   ]
  },
  {
   "cell_type": "markdown",
   "id": "3016e58a",
   "metadata": {},
   "source": [
    "### [Dumpster Diving Attacks](#H) <br/><br/>\n",
    "<hr width=50%;>"
   ]
  },
  {
   "cell_type": "markdown",
   "id": "29eef032",
   "metadata": {},
   "source": [
    "### [Shoulder Surfing](#I) <br/><br/>\n",
    "<hr width=50%;>"
   ]
  },
  {
   "cell_type": "markdown",
   "id": "5f7c02a6",
   "metadata": {},
   "source": [
    "### [Badge Cloning](#J) <br/><br/>\n",
    "<hr width=50%;>"
   ]
  },
  {
   "cell_type": "markdown",
   "id": "a4acbf67",
   "metadata": {},
   "source": [
    "### [Impersonation Attacks](#K) <br/><br/>\n",
    "<hr width=50%;>"
   ]
  },
  {
   "cell_type": "markdown",
   "id": "06ee73e7",
   "metadata": {},
   "source": [
    "### [Social Engineering Attack Tools](#L) <br/><br/>\n",
    "<hr width=50%;>"
   ]
  },
  {
   "cell_type": "markdown",
   "id": "81ebe3c1",
   "metadata": {},
   "source": [
    "### [Social Engineering Methods of Influence](#M) <br/><br/>\n",
    "<hr width=50%;>"
   ]
  },
  {
   "cell_type": "markdown",
   "id": "3582371b",
   "metadata": {},
   "source": [
    "### [Course Summary](#N) <br/><br/>\n",
    "<hr width=50%;>"
   ]
  },
  {
   "cell_type": "markdown",
   "id": "bf2b95e2",
   "metadata": {},
   "source": [
    "***\n",
    "## END"
   ]
  },
  {
   "cell_type": "markdown",
   "id": "34aa6eb5",
   "metadata": {},
   "source": [
    "< [Table of Contents](#top) | [References](#references) >\n",
    "<a id=\"aa\"></a>\n",
    "***\n",
    "### Social Engineering Attacks\n",
    "***"
   ]
  },
  {
   "cell_type": "markdown",
   "id": "173e78b5",
   "metadata": {},
   "source": []
  },
  {
   "cell_type": "markdown",
   "id": "d50a5655",
   "metadata": {},
   "source": [
    "< [Table of Contents](#top) | [References](#references) >\n",
    "<a id=\"A\"></a>\n",
    "***\n",
    "### The Pretexting Phase of Social Engineering\n",
    "*** "
   ]
  },
  {
   "cell_type": "markdown",
   "id": "ea4634b1",
   "metadata": {},
   "source": []
  },
  {
   "cell_type": "markdown",
   "id": "5fa07374",
   "metadata": {},
   "source": [
    "< [Table of Contents](#top) | [References](#references) >\n",
    "<a id=\"B\"></a>\n",
    "***\n",
    "### E-mail Phishing Attacks\n",
    "*** "
   ]
  },
  {
   "cell_type": "markdown",
   "id": "cccb9137",
   "metadata": {},
   "source": []
  },
  {
   "cell_type": "markdown",
   "id": "2418e3af",
   "metadata": {},
   "source": [
    "< [Table of Contents](#top) | [References](#references) >\n",
    "<a id=\"C\"></a>\n",
    "***\n",
    "### Short Message Service Phishing\n",
    "*** "
   ]
  },
  {
   "cell_type": "markdown",
   "id": "c8651e44",
   "metadata": {},
   "source": []
  },
  {
   "cell_type": "markdown",
   "id": "4c076f47",
   "metadata": {},
   "source": [
    "< [Table of Contents](#top) | [References](#references) >\n",
    "<a id=\"D\"></a>\n",
    "***\n",
    "### USB Drop Attacks\n",
    "*** "
   ]
  },
  {
   "cell_type": "markdown",
   "id": "b504250d",
   "metadata": {},
   "source": []
  },
  {
   "cell_type": "markdown",
   "id": "33e38710",
   "metadata": {},
   "source": [
    "< [Table of Contents](#top) | [References](#references) >\n",
    "<a id=\"E\"></a>\n",
    "***\n",
    "### Vishing Attack Methods\n",
    "*** "
   ]
  },
  {
   "cell_type": "markdown",
   "id": "30ca3b67",
   "metadata": {},
   "source": []
  },
  {
   "cell_type": "markdown",
   "id": "ec946fc1",
   "metadata": {},
   "source": [
    "< [Table of Contents](#top) | [References](#references) >\n",
    "<a id=\"F\"></a>\n",
    "***\n",
    "### Watering Hole Attacks\n",
    "*** "
   ]
  },
  {
   "cell_type": "markdown",
   "id": "8daa3611",
   "metadata": {},
   "source": []
  },
  {
   "cell_type": "markdown",
   "id": "6d2c622c",
   "metadata": {},
   "source": [
    "< [Table of Contents](#top) | [References](#references) >\n",
    "<a id=\"G\"></a>\n",
    "***\n",
    "### Tailgating Attacks\n",
    "*** "
   ]
  },
  {
   "cell_type": "markdown",
   "id": "ce9998c5",
   "metadata": {},
   "source": []
  },
  {
   "cell_type": "markdown",
   "id": "5ef3fbe1",
   "metadata": {},
   "source": [
    "< [Table of Contents](#top) | [References](#references) >\n",
    "<a id=\"H\"></a>\n",
    "***\n",
    "### Dumpster Diving Attacks\n",
    "*** "
   ]
  },
  {
   "cell_type": "markdown",
   "id": "8642e31a",
   "metadata": {},
   "source": []
  },
  {
   "cell_type": "markdown",
   "id": "1d6f8aab",
   "metadata": {},
   "source": [
    "< [Table of Contents](#top) | [References](#references) >\n",
    "<a id=\"I\"></a>\n",
    "***\n",
    "### Shoulder Surfing\n",
    "*** "
   ]
  },
  {
   "cell_type": "markdown",
   "id": "75a2e788",
   "metadata": {},
   "source": []
  },
  {
   "cell_type": "markdown",
   "id": "95ab4ce2",
   "metadata": {},
   "source": [
    "< [Table of Contents](#top) | [References](#references) >\n",
    "<a id=\"J\"></a>\n",
    "***\n",
    "### Badge Cloning\n",
    "*** "
   ]
  },
  {
   "cell_type": "markdown",
   "id": "73427bfc",
   "metadata": {},
   "source": []
  },
  {
   "cell_type": "markdown",
   "id": "4e61d51d",
   "metadata": {},
   "source": [
    "< [Table of Contents](#top) | [References](#references) >\n",
    "<a id=\"K\"></a>\n",
    "***\n",
    "### Impersonation Attacks\n",
    "*** "
   ]
  },
  {
   "cell_type": "markdown",
   "id": "298a1013",
   "metadata": {},
   "source": []
  },
  {
   "cell_type": "markdown",
   "id": "30cee2b8",
   "metadata": {},
   "source": [
    "< [Table of Contents](#top) | [References](#references) >\n",
    "<a id=\"L\"></a>\n",
    "***\n",
    "### Social Engineering Attack Tools\n",
    "*** "
   ]
  },
  {
   "cell_type": "markdown",
   "id": "6c3519f8",
   "metadata": {},
   "source": []
  },
  {
   "cell_type": "markdown",
   "id": "9b16f6ec",
   "metadata": {},
   "source": [
    "< [Table of Contents](#top) | [References](#references) >\n",
    "<a id=\"M\"></a>\n",
    "***\n",
    "### Social Engineering Methods of Influence\n",
    "*** "
   ]
  },
  {
   "cell_type": "markdown",
   "id": "e2bb9d77",
   "metadata": {},
   "source": []
  },
  {
   "cell_type": "markdown",
   "id": "97779c76",
   "metadata": {},
   "source": [
    "< [Table of Contents](#top) | [References](#references) >\n",
    "<a id=\"N\"></a>\n",
    "***\n",
    "### Course Summary\n",
    "*** "
   ]
  },
  {
   "cell_type": "markdown",
   "id": "767a9b28",
   "metadata": {},
   "source": []
  },
  {
   "cell_type": "markdown",
   "id": "2cc20932",
   "metadata": {},
   "source": [
    "***\n",
    "## END"
   ]
  },
  {
   "cell_type": "markdown",
   "id": "e0e42d51",
   "metadata": {},
   "source": [
    "< [Table of Contents](#top) >\n",
    "<a id=\"references\"></a>\n",
    "***\n",
    "## References\n",
    "***"
   ]
  },
  {
   "cell_type": "markdown",
   "id": "757bf6de",
   "metadata": {},
   "source": [
    "&nbsp;&nbsp;&nbsp;&nbsp;&nbsp;&nbsp;&nbsp;&nbsp;&nbsp;skillsoft, \"Social Engineering Attacks,\" [skillsoft.com](https://web.archive.org/web/20220403100053/https://www.skillsoft.com/), n.d.."
   ]
  },
  {
   "cell_type": "markdown",
   "id": "b33c372a",
   "metadata": {},
   "source": [
    "***\n",
    "## END"
   ]
  },
  {
   "cell_type": "markdown",
   "id": "e5961b4d",
   "metadata": {},
   "source": [
    "< [Table of Contents](#top) | [References](#references) >\n",
    "<a id=\"appendix\"></a>\n",
    "***\n",
    "## Appendix\n",
    "***"
   ]
  },
  {
   "cell_type": "markdown",
   "id": "00d82a82",
   "metadata": {},
   "source": [
    "***\n",
    "## END"
   ]
  },
  {
   "cell_type": "code",
   "execution_count": 1,
   "id": "706756a2",
   "metadata": {},
   "outputs": [
    {
     "name": "stderr",
     "output_type": "stream",
     "text": [
      "C:\\Users\\SeanOhAileasa\\AppData\\Local\\Temp\\ipykernel_3584\\1322614208.py:1: DeprecationWarning: Importing display from IPython.core.display is deprecated since IPython 7.14, please import from IPython display\n",
      "  from IPython.core.display import display,HTML\n"
     ]
    },
    {
     "data": {
      "text/html": [
       "<style>.container { width:100% !important; }</style>"
      ],
      "text/plain": [
       "<IPython.core.display.HTML object>"
      ]
     },
     "metadata": {},
     "output_type": "display_data"
    }
   ],
   "source": [
    "from IPython.core.display import display,HTML\n",
    "display(HTML(\"<style>.container { width:100% !important; }</style>\"))"
   ]
  },
  {
   "cell_type": "markdown",
   "id": "899c1783",
   "metadata": {},
   "source": [
    "# END JUPYTER NOTEBOOK"
   ]
  }
 ],
 "metadata": {
  "kernelspec": {
   "display_name": "Python 3 (ipykernel)",
   "language": "python",
   "name": "python3"
  },
  "language_info": {
   "codemirror_mode": {
    "name": "ipython",
    "version": 3
   },
   "file_extension": ".py",
   "mimetype": "text/x-python",
   "name": "python",
   "nbconvert_exporter": "python",
   "pygments_lexer": "ipython3",
   "version": "3.9.12"
  }
 },
 "nbformat": 4,
 "nbformat_minor": 5
}
